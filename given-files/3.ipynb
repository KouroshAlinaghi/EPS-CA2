{
 "cells": [
  {
   "cell_type": "code",
   "execution_count": 3,
   "metadata": {},
   "outputs": [
    {
     "ename": "NameError",
     "evalue": "name 'post' is not defined",
     "output_type": "error",
     "traceback": [
      "\u001b[0;31m---------------------------------------------------------------------------\u001b[0m",
      "\u001b[0;31mNameError\u001b[0m                                 Traceback (most recent call last)",
      "Cell \u001b[0;32mIn[3], line 30\u001b[0m\n\u001b[1;32m     27\u001b[0m \u001b[38;5;28;01mfor\u001b[39;00m i \u001b[38;5;129;01min\u001b[39;00m \u001b[38;5;28mrange\u001b[39m(\u001b[38;5;241m100\u001b[39m):\n\u001b[1;32m     28\u001b[0m     \u001b[38;5;66;03m# replace 'df' with your dataframe's name, this is just a suggestion, you do not have to code exactly like this\u001b[39;00m\n\u001b[1;32m     29\u001b[0m     n \u001b[38;5;241m=\u001b[39m  df[df[\u001b[38;5;124m'\u001b[39m\u001b[38;5;124mlabel\u001b[39m\u001b[38;5;124m'\u001b[39m] \u001b[38;5;241m==\u001b[39m \u001b[38;5;241m8\u001b[39m]\u001b[38;5;241m.\u001b[39miloc[i, df\u001b[38;5;241m.\u001b[39mcolumns\u001b[38;5;241m.\u001b[39mget_loc(\u001b[38;5;124m'\u001b[39m\u001b[38;5;124mpixel404\u001b[39m\u001b[38;5;124m'\u001b[39m)]\n\u001b[0;32m---> 30\u001b[0m     fy \u001b[38;5;241m=\u001b[39m \u001b[43mupdate\u001b[49m\u001b[43m(\u001b[49m\u001b[43mfy\u001b[49m\u001b[43m,\u001b[49m\u001b[43m \u001b[49m\u001b[43mn\u001b[49m\u001b[43m)\u001b[49m\n\u001b[1;32m     32\u001b[0m     \u001b[38;5;66;03m# dynamic plot\u001b[39;00m\n\u001b[1;32m     33\u001b[0m     \u001b[38;5;66;03m# do not change this part\u001b[39;00m\n\u001b[1;32m     34\u001b[0m     plt\u001b[38;5;241m.\u001b[39mplot(p, fy, \u001b[38;5;124m'\u001b[39m\u001b[38;5;124mr\u001b[39m\u001b[38;5;124m'\u001b[39m, label\u001b[38;5;241m=\u001b[39m\u001b[38;5;124m'\u001b[39m\u001b[38;5;124m1\u001b[39m\u001b[38;5;124m'\u001b[39m)\n",
      "Cell \u001b[0;32mIn[3], line 24\u001b[0m, in \u001b[0;36mupdate\u001b[0;34m(fy, n)\u001b[0m\n\u001b[1;32m     18\u001b[0m p \u001b[38;5;241m=\u001b[39m np\u001b[38;5;241m.\u001b[39mlinspace(\u001b[38;5;241m0\u001b[39m,\u001b[38;5;241m1\u001b[39m,t)\n\u001b[1;32m     19\u001b[0m \u001b[38;5;66;03m# calculate P(N = n| Y = p) which is a bernouli distribution\u001b[39;00m\n\u001b[1;32m     20\u001b[0m \u001b[38;5;66;03m# calculate integral(0 -> 1) fy * pny\u001b[39;00m\n\u001b[1;32m     21\u001b[0m \u001b[38;5;66;03m## pny =\u001b[39;00m\n\u001b[1;32m     22\u001b[0m \u001b[38;5;66;03m## integral = \u001b[39;00m\n\u001b[1;32m     23\u001b[0m \u001b[38;5;66;03m## post =\u001b[39;00m\n\u001b[0;32m---> 24\u001b[0m \u001b[38;5;28;01mreturn\u001b[39;00m \u001b[43mpost\u001b[49m\n",
      "\u001b[0;31mNameError\u001b[0m: name 'post' is not defined"
     ]
    },
    {
     "data": {
      "text/plain": [
       "<Figure size 1000x800 with 0 Axes>"
      ]
     },
     "metadata": {},
     "output_type": "display_data"
    }
   ],
   "source": [
    "## you need these imports\n",
    "import pandas as pd\n",
    "import numpy as np\n",
    "import matplotlib.pyplot as plt\n",
    "import scipy.stats as stats\n",
    "from time import sleep\n",
    "from IPython import display\n",
    "\n",
    "t = 1000\n",
    "p = np.linspace(0,1,t)\n",
    "fy = stats.beta.pdf(p, a=1, b=1)\n",
    "\n",
    "DIGITS_CSV_FILE_PATH = \"digits.csv\"\n",
    "\n",
    "df = pd.read_csv(DIGITS_CSV_FILE_PATH)\n",
    "\n",
    "def update(fy: np.array, n:bool) -> np.array:\n",
    "    p = np.linspace(0,1,t)\n",
    "    # calculate P(N = n| Y = p) which is a bernouli distribution\n",
    "    # calculate integral(0 -> 1) fy * pny\n",
    "    ## pny =\n",
    "    ## integral = \n",
    "    ## post =\n",
    "    return post\n",
    "\n",
    "plt.figure(figsize=(10,8))\n",
    "for i in range(100):\n",
    "    # replace 'df' with your dataframe's name, this is just a suggestion, you do not have to code exactly like this\n",
    "    n =  df[df['label'] == 8].iloc[i, df.columns.get_loc('pixel404')]\n",
    "    fy = update(fy, n)\n",
    "\n",
    "    # dynamic plot\n",
    "    # do not change this part\n",
    "    plt.plot(p, fy, 'r', label='1')\n",
    "    plt.ylim(-1, 10)\n",
    "    plt.xlim(0, 1)\n",
    "    plt.text(0.1,9,f'number of seen data : {i + 1}, p = {fy.argmax() / t :.2f}', color='purple')\n",
    "    display.clear_output(wait=True)\n",
    "    display.display(plt.gcf())\n",
    "    plt.clf()\n",
    "    sleep(0.05)"
   ]
  },
  {
   "cell_type": "code",
   "execution_count": null,
   "metadata": {},
   "outputs": [],
   "source": []
  }
 ],
 "metadata": {
  "kernelspec": {
   "display_name": "Python 3 (ipykernel)",
   "language": "python",
   "name": "python3"
  },
  "language_info": {
   "codemirror_mode": {
    "name": "ipython",
    "version": 3
   },
   "file_extension": ".py",
   "mimetype": "text/x-python",
   "name": "python",
   "nbconvert_exporter": "python",
   "pygments_lexer": "ipython3",
   "version": "3.11.5"
  }
 },
 "nbformat": 4,
 "nbformat_minor": 4
}
